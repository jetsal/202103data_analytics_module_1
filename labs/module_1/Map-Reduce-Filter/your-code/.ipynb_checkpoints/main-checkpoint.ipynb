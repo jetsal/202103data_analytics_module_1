{
 "cells": [
  {
   "cell_type": "markdown",
   "metadata": {
    "Collapsed": "false"
   },
   "source": [
    "# Before your start:\n",
    "- Read the README.md file\n",
    "- Comment as much as you can and use the resources in the README.md file\n",
    "- Happy learning!"
   ]
  },
  {
   "cell_type": "code",
   "execution_count": 50,
   "metadata": {
    "Collapsed": "false"
   },
   "outputs": [],
   "source": [
    "# Import reduce from functools, numpy and pandas\n",
    "import numpy as np\n",
    "import pandas as pd\n",
    "from functools import reduce #now use reduce()  if you import functools completely, use functools.reduce()"
   ]
  },
  {
   "cell_type": "markdown",
   "metadata": {
    "Collapsed": "false"
   },
   "source": [
    "# Challenge 1 - Mapping\n",
    "\n",
    "#### We will use the map function to clean up words in a book.\n",
    "\n",
    "In the following cell, we will read a text file containing the book The Prophet by Khalil Gibran.\n",
    "Data are available in the data folder."
   ]
  },
  {
   "cell_type": "code",
   "execution_count": 32,
   "metadata": {
    "Collapsed": "false"
   },
   "outputs": [],
   "source": [
    "# Run this code:\n",
    "\n",
    "location = '../data/58585-0.txt'\n",
    "with open(location, 'r', encoding=\"utf8\") as f:\n",
    "    prophet = f.read().split(' ')"
   ]
  },
  {
   "cell_type": "markdown",
   "metadata": {
    "Collapsed": "false"
   },
   "source": [
    "#### Let's remove the first 568 words since they contain information about the book but are not part of the book itself. \n",
    "\n",
    "Do this by removing from `prophet` elements 0 through 567 of the list (you can also do this by keeping elements 568 through the last element)."
   ]
  },
  {
   "cell_type": "code",
   "execution_count": 33,
   "metadata": {
    "Collapsed": "false"
   },
   "outputs": [
    {
     "name": "stdout",
     "output_type": "stream",
     "text": [
      "a: \n",
      " eBooks.\n",
      "\n",
      "\n",
      "check a: \n",
      " eBooks.\n",
      "\n",
      "\n",
      "b: \n",
      " PROPHET\n",
      "\n",
      "|Almustafa,\n",
      "check b: \n",
      " PROPHET\n",
      "\n",
      "|Almustafa,\n"
     ]
    }
   ],
   "source": [
    "# your code here\n",
    "prophet_short = prophet[568:]\n",
    "print(\"a: \\n\", prophet_short[-1])\n",
    "print(\"check a: \\n\", prophet[-1])\n",
    "print(\"b: \\n\", prophet_short[0])\n",
    "print(\"check b: \\n\", prophet[568])\n"
   ]
  },
  {
   "cell_type": "markdown",
   "metadata": {
    "Collapsed": "false"
   },
   "source": [
    "If you look through the words, you will find that many words have a reference attached to them. For example, let's look at words 1 through 10."
   ]
  },
  {
   "cell_type": "code",
   "execution_count": 34,
   "metadata": {
    "Collapsed": "false"
   },
   "outputs": [
    {
     "data": {
      "text/plain": [
       "['PROPHET\\n\\n|Almustafa,',\n",
       " 'the{7}',\n",
       " 'chosen',\n",
       " 'and',\n",
       " 'the\\nbeloved,',\n",
       " 'who',\n",
       " 'was',\n",
       " 'a',\n",
       " 'dawn',\n",
       " 'unto',\n",
       " 'his']"
      ]
     },
     "execution_count": 34,
     "metadata": {},
     "output_type": "execute_result"
    }
   ],
   "source": [
    "# your code here\n",
    "prophet_short[0:11]"
   ]
  },
  {
   "cell_type": "markdown",
   "metadata": {
    "Collapsed": "false"
   },
   "source": [
    "#### The next step is to create a function that will remove references. \n",
    "\n",
    "We will do this by splitting the string on the `{` character and keeping only the part before this character. Write your function below."
   ]
  },
  {
   "cell_type": "code",
   "execution_count": 35,
   "metadata": {},
   "outputs": [
    {
     "name": "stdout",
     "output_type": "stream",
     "text": [
      "hello,\n",
      "I\n",
      "am\n",
      "a\n",
      "three <class 'str'>\n",
      "bye\n"
     ]
    }
   ],
   "source": [
    "#test a forloop with a simple test\n",
    "test = ['hello,', 'I', 'am', 'a', 'three{4}', 'bye']\n",
    "\n",
    "for i in test:\n",
    "    if '{' in i:\n",
    "        a = i.split(\"{\")\n",
    "        print(a[0], type(a[0]))\n",
    "    else:\n",
    "        print(i)\n"
   ]
  },
  {
   "cell_type": "code",
   "execution_count": 36,
   "metadata": {
    "Collapsed": "false"
   },
   "outputs": [],
   "source": [
    "#make a function out of the for loop\n",
    "def reference(x):\n",
    "    '''\n",
    "    Input: A string\n",
    "    Output: The string with references removed\n",
    "    \n",
    "    Example:\n",
    "    Input: 'the{7}'\n",
    "    Output: 'the'\n",
    "    '''\n",
    "    if '{' in x:\n",
    "        a = x.split(\"{\")\n",
    "        return a[0]\n",
    "    else:\n",
    "        return x"
   ]
  },
  {
   "cell_type": "markdown",
   "metadata": {
    "Collapsed": "false"
   },
   "source": [
    "Now that we have our function, use the `map()` function to apply this function to our book, The Prophet. Return the resulting list to a new list called `prophet_reference`."
   ]
  },
  {
   "cell_type": "code",
   "execution_count": 37,
   "metadata": {
    "Collapsed": "false"
   },
   "outputs": [
    {
     "name": "stdout",
     "output_type": "stream",
     "text": [
      "['hello,', 'I', 'am', 'a', 'three', 'bye']\n",
      "['PROPHET\\n\\n|Almustafa,', 'the', 'chosen', 'and', 'the\\nbeloved,', 'who', 'was', 'a', 'dawn', 'unto', 'his', 'own\\nday,']\n"
     ]
    }
   ],
   "source": [
    "# your code here\n",
    "\n",
    "test2 = ['hello,', 'I', 'am', 'a', 'three{4}', 'bye']\n",
    "\n",
    "print(list(map(reference, test2)))\n",
    "\n",
    "prophet_reference = list(map(reference, prophet_short))\n",
    "print(prophet_reference[0:12])\n"
   ]
  },
  {
   "cell_type": "markdown",
   "metadata": {
    "Collapsed": "false"
   },
   "source": [
    "Another thing you may have noticed is that some words contain a line break. Let's write a function to split those words. Our function will return the string split on the character `\\n`. Write your function in the cell below."
   ]
  },
  {
   "cell_type": "code",
   "execution_count": 38,
   "metadata": {
    "Collapsed": "false"
   },
   "outputs": [],
   "source": [
    "def line_break(x):\n",
    "    '''\n",
    "    Input: A string\n",
    "    Output: A list of strings split on the line break (\\n) character\n",
    "        \n",
    "    Example:\n",
    "    Input: 'the\\nbeloved'\n",
    "    Output: ['the', 'beloved']\n",
    "    '''\n",
    "    if '\\n' in x:\n",
    "        return x.split(\"\\n\") #this returns a list\n",
    "    else:\n",
    "        return [x] #this needs to be a list for the ease of flattening later.."
   ]
  },
  {
   "cell_type": "code",
   "execution_count": 39,
   "metadata": {},
   "outputs": [
    {
     "data": {
      "text/plain": [
       "['the', 'beloved']"
      ]
     },
     "execution_count": 39,
     "metadata": {},
     "output_type": "execute_result"
    }
   ],
   "source": [
    "#test\n",
    "x = 'the\\nbeloved'\n",
    "line_break(x)"
   ]
  },
  {
   "cell_type": "markdown",
   "metadata": {
    "Collapsed": "false"
   },
   "source": [
    "Apply the `line_break` function to the `prophet_reference` list. Name the new list `prophet_line`."
   ]
  },
  {
   "cell_type": "code",
   "execution_count": 40,
   "metadata": {
    "Collapsed": "false"
   },
   "outputs": [
    {
     "name": "stdout",
     "output_type": "stream",
     "text": [
      "[['PROPHET', '', '|Almustafa,'], ['the'], ['chosen'], ['and'], ['the', 'beloved,'], ['who'], ['was'], ['a'], ['dawn'], ['unto'], ['his'], ['own', 'day,']]\n"
     ]
    }
   ],
   "source": [
    "# your code here\n",
    "prophet_line = list(map(line_break, prophet_reference))\n",
    "print(prophet_line[0:12])\n"
   ]
  },
  {
   "cell_type": "markdown",
   "metadata": {
    "Collapsed": "false"
   },
   "source": [
    "If you look at the elements of `prophet_line`, you will see that the function returned lists and not strings. Our list is now a list of lists. Flatten the list using list comprehension. Assign this new list to `prophet_flat`."
   ]
  },
  {
   "cell_type": "code",
   "execution_count": 41,
   "metadata": {
    "Collapsed": "false"
   },
   "outputs": [
    {
     "data": {
      "text/plain": [
       "['PROPHET',\n",
       " '',\n",
       " '|Almustafa,',\n",
       " 'the',\n",
       " 'chosen',\n",
       " 'and',\n",
       " 'the',\n",
       " 'beloved,',\n",
       " 'who',\n",
       " 'was',\n",
       " 'a',\n",
       " 'dawn']"
      ]
     },
     "execution_count": 41,
     "metadata": {},
     "output_type": "execute_result"
    }
   ],
   "source": [
    "# your code here\n",
    "prophet_flat = [j for i in prophet_line for j in i] #unpacks the level-1's to letters  \n",
    "\n",
    "#prophet_flat5 = [y for x in prophet_list for y in x if y != ''];\n",
    "prophet_flat[0:12]"
   ]
  },
  {
   "cell_type": "code",
   "execution_count": 42,
   "metadata": {},
   "outputs": [
    {
     "name": "stdout",
     "output_type": "stream",
     "text": [
      "['hello', 'as', 'I', 'bye']\n",
      "['a', 'test', 'enter', 'some', 'words', 'here']\n",
      "['hello', 'as', 'a', 'test', 'I', 'enter', 'some', 'words', 'here', 'bye']\n"
     ]
    }
   ],
   "source": [
    "\"\"\"when you have a list like this, you can still do itm but need a more complicated if/else statement\"\"\"\n",
    "\n",
    "test_string = ['hello', 'as', ['a', 'test'], 'I', ['enter', 'some', 'words', 'here'], 'bye']\n",
    "\n",
    "test_flat2 = [i for i in test_string if type(i)==str] #returns only the unnested ones (deletes the lists)\n",
    "test_flat3= [j for i in test_string for j in i if type(i)==list] #returns only the nested ones (unpacked)\n",
    "\n",
    "print(test_flat2)\n",
    "print(test_flat3)\n",
    "\n",
    "test_flat4 = [j for i in test_string for j in (i if isinstance(i, list) else (i,))]\n",
    "\n",
    "print(test_flat4)"
   ]
  },
  {
   "cell_type": "markdown",
   "metadata": {
    "Collapsed": "false"
   },
   "source": [
    "# Challenge 2 - Filtering\n",
    "\n",
    "When printing out a few words from the book, we see that there are words that we may not want to keep if we choose to analyze the corpus of text. Below is a list of words that we would like to get rid of. Create a function that will return false if it contains a word from the list of words specified and true otherwise."
   ]
  },
  {
   "cell_type": "code",
   "execution_count": 43,
   "metadata": {
    "Collapsed": "false"
   },
   "outputs": [
    {
     "name": "stdout",
     "output_type": "stream",
     "text": [
      "using function ['hello', 'friend', 'foe']\n",
      "using lambda function ['hello', 'friend', 'foe']\n"
     ]
    }
   ],
   "source": [
    "def word_filter(x):\n",
    "    '''\n",
    "    Input: A string\n",
    "    Output: True if the word is not in the specified list \n",
    "    and False if the word is in the list.\n",
    "        \n",
    "    Example:\n",
    "    word list = ['and', 'the']\n",
    "    Input: 'and'\n",
    "    Output: False\n",
    "    \n",
    "    Input: 'John'\n",
    "    Output: True\n",
    "    '''\n",
    "    \n",
    "    word_list = ['and', 'the', 'a', 'an']\n",
    "    \n",
    "    # your code here\n",
    "    if x not in word_list:\n",
    "        return True\n",
    "    else:\n",
    "        return False\n",
    "\n",
    "\n",
    "test=[\"hello\", \"a\", \"friend\", \"and\", \"a\", \"foe\"]\n",
    "print(\"using function\", list(filter(word_filter, test)))\n",
    "\n",
    "word_list_lambda = ['and', 'the', 'a', 'an']\n",
    "print(\"using lambda function\", list(filter(lambda x: x not in word_list_lambda, test)))"
   ]
  },
  {
   "cell_type": "markdown",
   "metadata": {
    "Collapsed": "false"
   },
   "source": [
    "Use the `filter()` function to filter out the words speficied in the `word_filter()` function. Store the filtered list in the variable `prophet_filter`."
   ]
  },
  {
   "cell_type": "code",
   "execution_count": 44,
   "metadata": {},
   "outputs": [
    {
     "data": {
      "text/plain": [
       "['PROPHET',\n",
       " '',\n",
       " '|Almustafa,',\n",
       " 'chosen',\n",
       " 'beloved,',\n",
       " 'who',\n",
       " 'was',\n",
       " 'dawn',\n",
       " 'unto',\n",
       " 'his',\n",
       " 'own',\n",
       " 'day,']"
      ]
     },
     "execution_count": 44,
     "metadata": {},
     "output_type": "execute_result"
    }
   ],
   "source": [
    "prophet_filter = list(filter(word_filter, prophet_flat))\n",
    "prophet_filter[0:12]"
   ]
  },
  {
   "cell_type": "markdown",
   "metadata": {
    "Collapsed": "false"
   },
   "source": [
    "# Bonus Challenge\n",
    "\n",
    "Rewrite the `word_filter` function above to not be case sensitive."
   ]
  },
  {
   "cell_type": "code",
   "execution_count": 45,
   "metadata": {
    "Collapsed": "false"
   },
   "outputs": [
    {
     "name": "stdout",
     "output_type": "stream",
     "text": [
      "test using function ['hello', 'friend', 'foe']\n",
      "prophet using function ['PROPHET', '|Almustafa,', 'chosen', 'beloved,', 'who', 'was', 'dawn']\n"
     ]
    }
   ],
   "source": [
    "def word_filter_case(x):\n",
    "   \n",
    "    word_list = ['and', 'the', 'a', 'an', ''] #EXTRA:filtered out empty string ''.\n",
    "    \n",
    "    # your code here\n",
    "    return x.lower() not in word_list\n",
    "    \n",
    "\n",
    "test=[\"hello\", \"A\", \"friend\", \"aNd\", \"a\", \"foe\"]\n",
    "print(\"test using function\", list(filter(word_filter_case, test)))\n",
    "print(\"prophet using function\", list(filter(word_filter_case, prophet_flat[0:12])))\n",
    "\n",
    "prophet_filter = list(filter(word_filter_case, prophet_flat))"
   ]
  },
  {
   "cell_type": "markdown",
   "metadata": {
    "Collapsed": "false"
   },
   "source": [
    "# Challenge 3 - Reducing\n",
    "\n",
    "#### Now that we have significantly cleaned up our text corpus, let's use the `reduce()` function to put the words back together into one long string separated by spaces. \n",
    "\n",
    "We will start by writing a function that takes two strings and concatenates them together with a space between the two strings."
   ]
  },
  {
   "cell_type": "code",
   "execution_count": 46,
   "metadata": {},
   "outputs": [
    {
     "data": {
      "text/plain": [
       "['PROPHET',\n",
       " '|Almustafa,',\n",
       " 'chosen',\n",
       " 'beloved,',\n",
       " 'who',\n",
       " 'was',\n",
       " 'dawn',\n",
       " 'unto',\n",
       " 'his',\n",
       " 'own',\n",
       " 'day,',\n",
       " 'had']"
      ]
     },
     "execution_count": 46,
     "metadata": {},
     "output_type": "execute_result"
    }
   ],
   "source": [
    "prophet_filter[0:12] #list of strings"
   ]
  },
  {
   "cell_type": "code",
   "execution_count": 47,
   "metadata": {
    "Collapsed": "false"
   },
   "outputs": [],
   "source": [
    "def concat_space(a, b):\n",
    "    '''\n",
    "    Input:Two strings\n",
    "    Output: A single string separated by a space\n",
    "        \n",
    "    Example:\n",
    "    Input: 'John', 'Smith'\n",
    "    Output: 'John Smith'\n",
    "    '''\n",
    "    \n",
    "    # your code here\n",
    "    return a + ' ' + b\n",
    "\n",
    "#test block:\n",
    "# a = 'hello'\n",
    "# b = 'world'\n",
    "\n",
    "# concat_space(a, b)"
   ]
  },
  {
   "cell_type": "markdown",
   "metadata": {
    "Collapsed": "false"
   },
   "source": [
    "Use the function above to reduce the text corpus in the list `prophet_filter` into a single string. Assign this new string to the variable `prophet_string`."
   ]
  },
  {
   "cell_type": "code",
   "execution_count": 52,
   "metadata": {
    "Collapsed": "false"
   },
   "outputs": [
    {
     "name": "stdout",
     "output_type": "stream",
     "text": [
      "PROPHET |Almustafa, chosen beloved, who was dawn \n",
      "PROPHET |Almustafa, chosen beloved, who was dawn \n"
     ]
    }
   ],
   "source": [
    "# your code here\n",
    "prophet_string = reduce(concat_space, prophet_filter)\n",
    "print(prophet_string[0:49])\n",
    "\n",
    "prophet_string_lambda = reduce(lambda a,b: a + ' ' + b, prophet_filter)\n",
    "print(prophet_string_lambda[0:49])"
   ]
  },
  {
   "cell_type": "markdown",
   "metadata": {
    "Collapsed": "false"
   },
   "source": [
    "# Challenge 4 - Applying Functions to DataFrames\n",
    "\n",
    "#### Our next step is to use the apply function to a dataframe and transform all cells.\n",
    "\n",
    "To do this, we will connect to Ironhack's database and retrieve the data from the *pollution* database that you can find in the data folder. Access the data via a relative link and and retrieve it as a dataframe."
   ]
  },
  {
   "cell_type": "code",
   "execution_count": null,
   "metadata": {
    "Collapsed": "false"
   },
   "outputs": [],
   "source": [
    "# your code here\n",
    "pollution = pd.read_csv('../data/pollution.csv')\n",
    "\n",
    "pollution.info()\n"
   ]
  },
  {
   "cell_type": "markdown",
   "metadata": {
    "Collapsed": "false"
   },
   "source": [
    "Let's look at the data using the `head()` function."
   ]
  },
  {
   "cell_type": "code",
   "execution_count": null,
   "metadata": {
    "Collapsed": "false"
   },
   "outputs": [],
   "source": [
    "# your code here\n",
    "pollution.head()"
   ]
  },
  {
   "cell_type": "markdown",
   "metadata": {
    "Collapsed": "false"
   },
   "source": [
    "The next step is to create a function that divides a cell by 24 to produce an hourly figure. Write the function below."
   ]
  },
  {
   "cell_type": "code",
   "execution_count": null,
   "metadata": {
    "Collapsed": "false"
   },
   "outputs": [],
   "source": [
    "def hourly(x):\n",
    "    '''\n",
    "    Input: A numerical value\n",
    "    Output: The value divided by 24\n",
    "        \n",
    "    Example:\n",
    "    Input: 48\n",
    "    Output: 2.0\n",
    "    '''\n",
    "    return x/24\n",
    "    # your code here"
   ]
  },
  {
   "cell_type": "markdown",
   "metadata": {
    "Collapsed": "false"
   },
   "source": [
    "Apply this function to the columns `Iws`, `Is`, and `Ir`. Store this new dataframe in the variable `pm25_hourly`."
   ]
  },
  {
   "cell_type": "code",
   "execution_count": null,
   "metadata": {
    "Collapsed": "false"
   },
   "outputs": [],
   "source": [
    "# your code here\n",
    "#pollution_num = pollution._get_numeric_data()\n",
    "pm25_hourly = pollution[['Iws', 'Is', 'Ir']].apply(hourly)\n",
    "\n",
    "print(pm25_hourly.head(), '\\n\\n')\n",
    "print(pm25_hourly.info())"
   ]
  },
  {
   "cell_type": "markdown",
   "metadata": {
    "Collapsed": "false"
   },
   "source": [
    "#### Our last challenge will be to create an aggregate function and apply it to a select group of columns in our dataframe.\n",
    "\n",
    "Write a function that returns the standard deviation of a column divided by the length of a column minus 1. Since we are using pandas, do not use the `len()` function. One alternative is to use `count()`. Also, use the numpy version of standard deviation."
   ]
  },
  {
   "cell_type": "code",
   "execution_count": null,
   "metadata": {
    "Collapsed": "false"
   },
   "outputs": [],
   "source": [
    "#using len anyway\n",
    "def sample_sd(x):\n",
    "    '''\n",
    "    Input: A Pandas series of values\n",
    "    Output: the standard deviation divided by the number of elements in the series\n",
    "        \n",
    "    Example:\n",
    "    Input: pd.Series([1,2,3,4])\n",
    "    Output: 0.3726779962\n",
    "    '''\n",
    "    \n",
    "    # your code here\n",
    "    return np.std(x)/(len(x)-1)  #len does seem to work, why do you have to use count?\n",
    "\n",
    "#Using count\n",
    "def sample_sd_2(x):\n",
    "    return np.std(x)/(x.count()-1)"
   ]
  },
  {
   "cell_type": "code",
   "execution_count": null,
   "metadata": {},
   "outputs": [],
   "source": [
    "sample_sd_2(pollution[['TEMP', 'Iws', 'Is', 'Ir']])"
   ]
  },
  {
   "cell_type": "code",
   "execution_count": null,
   "metadata": {},
   "outputs": [],
   "source": [
    "sample_sd(pollution[['TEMP', 'Iws', 'Is', 'Ir']])"
   ]
  },
  {
   "cell_type": "code",
   "execution_count": null,
   "metadata": {},
   "outputs": [],
   "source": [
    "pollution[['TEMP', 'Iws', 'Is', 'Ir']].apply(sample_sd)"
   ]
  },
  {
   "cell_type": "code",
   "execution_count": null,
   "metadata": {},
   "outputs": [],
   "source": []
  }
 ],
 "metadata": {
  "kernelspec": {
   "display_name": "Python 3",
   "language": "python",
   "name": "python3"
  },
  "language_info": {
   "codemirror_mode": {
    "name": "ipython",
    "version": 3
   },
   "file_extension": ".py",
   "mimetype": "text/x-python",
   "name": "python",
   "nbconvert_exporter": "python",
   "pygments_lexer": "ipython3",
   "version": "3.8.5"
  }
 },
 "nbformat": 4,
 "nbformat_minor": 4
}
