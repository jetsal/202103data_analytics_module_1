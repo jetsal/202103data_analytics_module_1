{
 "cells": [
  {
   "cell_type": "markdown",
   "metadata": {
    "Collapsed": "false"
   },
   "source": [
    "# Intrduction to NumPy\n",
    "\n",
    "\n",
    "#### 1. Import NumPy under the name np."
   ]
  },
  {
   "cell_type": "code",
   "execution_count": 1,
   "metadata": {
    "Collapsed": "false"
   },
   "outputs": [],
   "source": [
    "# your code here\n",
    "import numpy as np"
   ]
  },
  {
   "cell_type": "markdown",
   "metadata": {
    "Collapsed": "false"
   },
   "source": [
    "#### 2. Print your NumPy version."
   ]
  },
  {
   "cell_type": "code",
   "execution_count": 2,
   "metadata": {
    "Collapsed": "false"
   },
   "outputs": [
    {
     "name": "stdout",
     "output_type": "stream",
     "text": [
      "1.19.2\n"
     ]
    }
   ],
   "source": [
    "# your code here\n",
    "print(np.__version__)"
   ]
  },
  {
   "cell_type": "markdown",
   "metadata": {
    "Collapsed": "false"
   },
   "source": [
    "#### 3. Generate a 2x3x5 3-dimensional array with random values. Assign the array to variable *a*.\n",
    "**Challenge**: there are at least three easy ways that use numpy to generate random arrays. How many ways can you find?"
   ]
  },
  {
   "cell_type": "code",
   "execution_count": 3,
   "metadata": {
    "Collapsed": "false"
   },
   "outputs": [
    {
     "name": "stdout",
     "output_type": "stream",
     "text": [
      "method 1 \n",
      " [[[0.89439822 0.44298712 0.40682551 0.83750497 0.85010173]\n",
      "  [0.47508985 0.42971535 0.55121275 0.01875059 0.85731748]\n",
      "  [0.38976541 0.88906324 0.72662552 0.10508558 0.77071254]]\n",
      "\n",
      " [[0.24073236 0.66073398 0.19270361 0.07346093 0.28016006]\n",
      "  [0.27360489 0.36571405 0.67122264 0.90709843 0.19529242]\n",
      "  [0.8598369  0.15161691 0.15751548 0.34835567 0.26417692]]]\n"
     ]
    }
   ],
   "source": [
    "# Method 1\n",
    "a = np.random.random((2,3,5))\n",
    "print(\"method 1 \\n\", a)"
   ]
  },
  {
   "cell_type": "code",
   "execution_count": 4,
   "metadata": {
    "Collapsed": "false"
   },
   "outputs": [
    {
     "name": "stdout",
     "output_type": "stream",
     "text": [
      "method 2 \n",
      " [[[0.46856784 0.78587614 0.73803772 0.0580735  0.85105374]\n",
      "  [0.68973469 0.40353477 0.84088354 0.15673607 0.56761758]\n",
      "  [0.13605131 0.11978332 0.95565317 0.09194671 0.18386999]]\n",
      "\n",
      " [[0.60790106 0.02394601 0.92640727 0.96587035 0.07566135]\n",
      "  [0.54426621 0.14259109 0.23568481 0.08644305 0.73637068]\n",
      "  [0.33425255 0.5511262  0.09906277 0.13794699 0.18110494]]]\n"
     ]
    }
   ],
   "source": [
    "# Method 2\n",
    "a = np.random.random(size = (2,3,5))\n",
    "print(\"method 2 \\n\", a)"
   ]
  },
  {
   "cell_type": "code",
   "execution_count": 5,
   "metadata": {
    "Collapsed": "false"
   },
   "outputs": [
    {
     "name": "stdout",
     "output_type": "stream",
     "text": [
      "method 3 \n",
      " [[[0.7354904  0.07889871 0.96086133 0.64234364 0.53781385]\n",
      "  [0.51695791 0.57985939 0.41520774 0.76149942 0.26256269]\n",
      "  [0.42128007 0.86654304 0.11860127 0.46057247 0.81766655]]\n",
      "\n",
      " [[0.77410974 0.13875033 0.70697525 0.63361915 0.82056115]\n",
      "  [0.4171128  0.83846527 0.10175054 0.41322289 0.15578966]\n",
      "  [0.32774661 0.13392704 0.25506656 0.48484311 0.17959371]]]\n"
     ]
    }
   ],
   "source": [
    "# Method 3\n",
    "a = np.random.random([2,3,5])\n",
    "print(\"method 3 \\n\", a)"
   ]
  },
  {
   "cell_type": "markdown",
   "metadata": {
    "Collapsed": "false"
   },
   "source": [
    "#### 4. Print *a*.\n"
   ]
  },
  {
   "cell_type": "code",
   "execution_count": 6,
   "metadata": {
    "Collapsed": "false"
   },
   "outputs": [
    {
     "name": "stdout",
     "output_type": "stream",
     "text": [
      "a1 is: \n",
      " [[[9 9 7 8 0]\n",
      "  [3 8 2 8 2]\n",
      "  [8 5 2 3 8]]\n",
      "\n",
      " [[8 9 5 3 8]\n",
      "  [8 5 7 2 1]\n",
      "  [6 6 9 5 6]]] \n",
      "\n",
      "a2 is: \n",
      " [[[0.31394268 0.55343776 0.54340618 0.22886727 0.35130297]\n",
      "  [0.60807809 0.05492105 0.4232501  0.8459997  0.21733852]\n",
      "  [0.40476996 0.22233668 0.84144995 0.14207624 0.87614011]]\n",
      "\n",
      " [[0.27156755 0.9074277  0.67507421 0.87297702 0.60642235]\n",
      "  [0.87506259 0.40288803 0.33153418 0.04908308 0.3887417 ]\n",
      "  [0.53348957 0.82129944 0.99235647 0.09948778 0.31159806]]] \n",
      "\n",
      "a3 is: \n",
      " [[[0.81748122 0.56104598 0.70008303 0.84216656 0.05442567]\n",
      "  [0.36426988 0.84246953 0.56546175 0.07544853 0.18426177]\n",
      "  [0.71956629 0.24290632 0.29190297 0.30072081 0.0601522 ]]\n",
      "\n",
      " [[0.27629714 0.56111989 0.70431119 0.5194643  0.99198692]\n",
      "  [0.25406599 0.59117978 0.93239746 0.01939177 0.29322726]\n",
      "  [0.36658534 0.01363642 0.91208871 0.59788431 0.84458665]]] \n",
      "\n"
     ]
    }
   ],
   "source": [
    "# your code here\n",
    "#This is what they wanted to hear:\n",
    "a1 = np.random.randint(10, size = (2,3,5));\n",
    "a2 = np.random.rand(2,3,5);\n",
    "a3 = np.random.random((2,3,5));\n",
    "\n",
    "print(\"a1 is: \\n\", a1, \"\\n\")\n",
    "print(\"a2 is: \\n\", a2, \"\\n\")\n",
    "print(\"a3 is: \\n\", a3, \"\\n\")"
   ]
  },
  {
   "cell_type": "markdown",
   "metadata": {
    "Collapsed": "false"
   },
   "source": [
    "#### 5. Create a 5x2x3 3-dimensional array with all values equaling 1. Assign the array to variable *b*."
   ]
  },
  {
   "cell_type": "code",
   "execution_count": 7,
   "metadata": {
    "Collapsed": "false"
   },
   "outputs": [],
   "source": [
    "# your code here\n",
    "b = np.ones((5, 2, 3))"
   ]
  },
  {
   "cell_type": "markdown",
   "metadata": {
    "Collapsed": "false"
   },
   "source": [
    "#### 6. Print *b*.\n"
   ]
  },
  {
   "cell_type": "code",
   "execution_count": 8,
   "metadata": {
    "Collapsed": "false"
   },
   "outputs": [
    {
     "name": "stdout",
     "output_type": "stream",
     "text": [
      "[[[1. 1. 1.]\n",
      "  [1. 1. 1.]]\n",
      "\n",
      " [[1. 1. 1.]\n",
      "  [1. 1. 1.]]\n",
      "\n",
      " [[1. 1. 1.]\n",
      "  [1. 1. 1.]]\n",
      "\n",
      " [[1. 1. 1.]\n",
      "  [1. 1. 1.]]\n",
      "\n",
      " [[1. 1. 1.]\n",
      "  [1. 1. 1.]]]\n"
     ]
    }
   ],
   "source": [
    "# your code here\n",
    "print(b)"
   ]
  },
  {
   "cell_type": "markdown",
   "metadata": {
    "Collapsed": "false"
   },
   "source": [
    "#### 7. Do *a* and *b* have the same size? How do you prove that in Python code?"
   ]
  },
  {
   "cell_type": "code",
   "execution_count": 9,
   "metadata": {
    "Collapsed": "false"
   },
   "outputs": [
    {
     "name": "stdout",
     "output_type": "stream",
     "text": [
      "check option 1: True\n",
      "check option 2: \n",
      " The size of a is: 30 \n",
      " The size of b is: 30\n"
     ]
    }
   ],
   "source": [
    "# your code here\n",
    "# Yes, as 5*2*3 = 2*3*5\n",
    "\n",
    "print(\"check option 1:\", a.size == b.size)\n",
    "print(\"check option 2: \\n The size of a is:\", a.size,\"\\n The size of b is:\", b.size)\n"
   ]
  },
  {
   "cell_type": "markdown",
   "metadata": {
    "Collapsed": "false"
   },
   "source": [
    "#### 8. Are you able to add *a* and *b*? Why or why not?\n"
   ]
  },
  {
   "cell_type": "code",
   "execution_count": 10,
   "metadata": {
    "Collapsed": "false"
   },
   "outputs": [],
   "source": [
    "# your answer here\n",
    "#No, because the dimensions are differently shaped"
   ]
  },
  {
   "cell_type": "markdown",
   "metadata": {
    "Collapsed": "false"
   },
   "source": [
    "#### 9. Transpose *b* so that it has the same structure of *a* (i.e. become a 2x3x5 array). Assign the transposed array to variable *c*."
   ]
  },
  {
   "cell_type": "code",
   "execution_count": 11,
   "metadata": {
    "Collapsed": "false"
   },
   "outputs": [
    {
     "name": "stdout",
     "output_type": "stream",
     "text": [
      "this is c \n",
      " [[[1. 1. 1. 1. 1.]\n",
      "  [1. 1. 1. 1. 1.]\n",
      "  [1. 1. 1. 1. 1.]]\n",
      "\n",
      " [[1. 1. 1. 1. 1.]\n",
      "  [1. 1. 1. 1. 1.]\n",
      "  [1. 1. 1. 1. 1.]]]\n"
     ]
    }
   ],
   "source": [
    "# your code here\n",
    "# a: 2, 3, 5\n",
    "# b: 5, 2, 3\n",
    "c = np.transpose(b, [1, 2, 0]); \n",
    "# put the number at index 1 on the spot of index 0; the number at index 2 on the spot of index 1 and index 0 on the last index (2)\n",
    "print (\"this is c \\n\", c)\n"
   ]
  },
  {
   "cell_type": "markdown",
   "metadata": {
    "Collapsed": "false"
   },
   "source": [
    "#### 10. Try to add *a* and *c*. Now it should work. Assign the sum to variable *d*. But why does it work now?"
   ]
  },
  {
   "cell_type": "code",
   "execution_count": 12,
   "metadata": {
    "Collapsed": "false"
   },
   "outputs": [
    {
     "name": "stdout",
     "output_type": "stream",
     "text": [
      "[[[1.7354904  1.07889871 1.96086133 1.64234364 1.53781385]\n",
      "  [1.51695791 1.57985939 1.41520774 1.76149942 1.26256269]\n",
      "  [1.42128007 1.86654304 1.11860127 1.46057247 1.81766655]]\n",
      "\n",
      " [[1.77410974 1.13875033 1.70697525 1.63361915 1.82056115]\n",
      "  [1.4171128  1.83846527 1.10175054 1.41322289 1.15578966]\n",
      "  [1.32774661 1.13392704 1.25506656 1.48484311 1.17959371]]]\n"
     ]
    }
   ],
   "source": [
    "# your code/answer here\n",
    "d = np.add(a,c)\n",
    "print (d)\n",
    "#it works because they are of the same shape (there is always a 'counterpart' present in the other array)"
   ]
  },
  {
   "cell_type": "markdown",
   "metadata": {
    "Collapsed": "false"
   },
   "source": [
    "#### 11. Print *a* and *d*. Notice the difference and relation of the two array in terms of the values? Explain."
   ]
  },
  {
   "cell_type": "code",
   "execution_count": 13,
   "metadata": {
    "Collapsed": "false"
   },
   "outputs": [
    {
     "name": "stdout",
     "output_type": "stream",
     "text": [
      "[[[0.7354904  0.07889871 0.96086133 0.64234364 0.53781385]\n",
      "  [0.51695791 0.57985939 0.41520774 0.76149942 0.26256269]\n",
      "  [0.42128007 0.86654304 0.11860127 0.46057247 0.81766655]]\n",
      "\n",
      " [[0.77410974 0.13875033 0.70697525 0.63361915 0.82056115]\n",
      "  [0.4171128  0.83846527 0.10175054 0.41322289 0.15578966]\n",
      "  [0.32774661 0.13392704 0.25506656 0.48484311 0.17959371]]]\n",
      "[[[1.7354904  1.07889871 1.96086133 1.64234364 1.53781385]\n",
      "  [1.51695791 1.57985939 1.41520774 1.76149942 1.26256269]\n",
      "  [1.42128007 1.86654304 1.11860127 1.46057247 1.81766655]]\n",
      "\n",
      " [[1.77410974 1.13875033 1.70697525 1.63361915 1.82056115]\n",
      "  [1.4171128  1.83846527 1.10175054 1.41322289 1.15578966]\n",
      "  [1.32774661 1.13392704 1.25506656 1.48484311 1.17959371]]]\n"
     ]
    }
   ],
   "source": [
    "# your code/answer here\n",
    "print (a)\n",
    "print (d)\n",
    "\n",
    "# they are the same, but in d  1 is added to each element in a"
   ]
  },
  {
   "cell_type": "markdown",
   "metadata": {
    "Collapsed": "false"
   },
   "source": [
    "#### 12. Multiply *a* and *c*. Assign the result to *e*."
   ]
  },
  {
   "cell_type": "code",
   "execution_count": 14,
   "metadata": {
    "Collapsed": "false"
   },
   "outputs": [
    {
     "name": "stdout",
     "output_type": "stream",
     "text": [
      "[[[0.7354904  0.07889871 0.96086133 0.64234364 0.53781385]\n",
      "  [0.51695791 0.57985939 0.41520774 0.76149942 0.26256269]\n",
      "  [0.42128007 0.86654304 0.11860127 0.46057247 0.81766655]]\n",
      "\n",
      " [[0.77410974 0.13875033 0.70697525 0.63361915 0.82056115]\n",
      "  [0.4171128  0.83846527 0.10175054 0.41322289 0.15578966]\n",
      "  [0.32774661 0.13392704 0.25506656 0.48484311 0.17959371]]]\n"
     ]
    }
   ],
   "source": [
    "# your code here\n",
    "e = np.multiply(a,c)\n",
    "print (e)"
   ]
  },
  {
   "cell_type": "markdown",
   "metadata": {
    "Collapsed": "false"
   },
   "source": [
    "#### 13. Does *e* equal to *a*? Why or why not?\n"
   ]
  },
  {
   "cell_type": "code",
   "execution_count": 15,
   "metadata": {
    "Collapsed": "false"
   },
   "outputs": [
    {
     "data": {
      "text/plain": [
       "array([[[ True,  True,  True,  True,  True],\n",
       "        [ True,  True,  True,  True,  True],\n",
       "        [ True,  True,  True,  True,  True]],\n",
       "\n",
       "       [[ True,  True,  True,  True,  True],\n",
       "        [ True,  True,  True,  True,  True],\n",
       "        [ True,  True,  True,  True,  True]]])"
      ]
     },
     "execution_count": 15,
     "metadata": {},
     "output_type": "execute_result"
    }
   ],
   "source": [
    "# your code/answer here\n",
    "\n",
    "#Yes, as a is only multiplied by 1 it remains the same\n",
    "\n",
    "a == e"
   ]
  },
  {
   "cell_type": "markdown",
   "metadata": {
    "Collapsed": "false"
   },
   "source": [
    "#### 14. Identify the max, min, and mean values in *d*. Assign those values to variables *d_max*, *d_min* and *d_mean*."
   ]
  },
  {
   "cell_type": "code",
   "execution_count": 16,
   "metadata": {
    "Collapsed": "false"
   },
   "outputs": [
    {
     "name": "stdout",
     "output_type": "stream",
     "text": [
      "1.9608613344506467 1.0788987143581494 1.4852564098614474\n"
     ]
    }
   ],
   "source": [
    "# your code here\n",
    "d_max = np.max(d)\n",
    "d_min = np.min(d)\n",
    "d_mean = np.mean(d)\n",
    "\n",
    "print (d_max, d_min, d_mean)"
   ]
  },
  {
   "cell_type": "markdown",
   "metadata": {
    "Collapsed": "false"
   },
   "source": [
    "#### 15. Now we want to label the values in *d*. First create an empty array *f* with the same shape (i.e. 2x3x5) as *d* using `np.empty`.\n"
   ]
  },
  {
   "cell_type": "code",
   "execution_count": 17,
   "metadata": {
    "Collapsed": "false"
   },
   "outputs": [
    {
     "name": "stdout",
     "output_type": "stream",
     "text": [
      "[[[0.7354904  0.07889871 0.96086133 0.64234364 0.53781385]\n",
      "  [0.51695791 0.57985939 0.41520774 0.76149942 0.26256269]\n",
      "  [0.42128007 0.86654304 0.11860127 0.46057247 0.81766655]]\n",
      "\n",
      " [[0.77410974 0.13875033 0.70697525 0.63361915 0.82056115]\n",
      "  [0.4171128  0.83846527 0.10175054 0.41322289 0.15578966]\n",
      "  [0.32774661 0.13392704 0.25506656 0.48484311 0.17959371]]]\n"
     ]
    }
   ],
   "source": [
    "# your code here\n",
    "f = np.empty((2,3,5))\n",
    "print(f)\n",
    "\n",
    "#beter gebruik np.zeros dan weet je tenminste dat het daar vandaan komt. (alleen empty is iets sneller)"
   ]
  },
  {
   "cell_type": "markdown",
   "metadata": {
    "Collapsed": "false"
   },
   "source": [
    "#### 16. Populate the values in *f*. \n",
    "\n",
    "For each value in *d*, if it's larger than *d_min* but smaller than *d_mean*, assign 25 to the corresponding value in *f*. If a value in *d* is larger than *d_mean* but smaller than *d_max*, assign 75 to the corresponding value in *f*. If a value equals to *d_mean*, assign 50 to the corresponding value in *f*. Assign 0 to the corresponding value(s) in *f* for *d_min* in *d*. Assign 100 to the corresponding value(s) in *f* for *d_max* in *d*. In the end, f should have only the following values: 0, 25, 50, 75, and 100.\n",
    "\n",
    "**Note**: you don't have to use Numpy in this question."
   ]
  },
  {
   "cell_type": "code",
   "execution_count": 18,
   "metadata": {
    "Collapsed": "false"
   },
   "outputs": [
    {
     "name": "stdout",
     "output_type": "stream",
     "text": [
      "(2, 3, 5)\n",
      "[[[ 75.   0. 100.  75.  75.]\n",
      "  [ 75.  75.  25.  75.  25.]\n",
      "  [ 25.  75.  25.  25.  75.]]\n",
      "\n",
      " [[ 75.  25.  75.  75.  75.]\n",
      "  [ 25.  75.  25.  25.  25.]\n",
      "  [ 25.  25.  25.  25.  25.]]]\n"
     ]
    }
   ],
   "source": [
    "# your code here\n",
    "\n",
    "print(d.shape)\n",
    "# d equals two series of 3 rows with each 5 values. So you have 3 levels (i, j , k) with a range of 2, 3 or 5\n",
    "\n",
    "for i in range(2):\n",
    "    for j in range(3):\n",
    "        for k in range(5):\n",
    "            if d[i][j][k] > d_min and i < d_mean: #iterates through all possible positiosn, 0-0-0 '0-0-1' all the way to 2-3-5\n",
    "                f[i][j][k] = (25)\n",
    "            if d[i][j][k] > d_mean and i < d_max:\n",
    "                f[i][j][k] = (75)\n",
    "            if d[i][j][k] == d_mean:\n",
    "                f[i][j][k] = (50)\n",
    "            if d[i][j][k] == d_min:\n",
    "                f[i][j][k] = (0)\n",
    "            if d[i][j][k] == d_max:\n",
    "                f[i][j][k] = (100)\n",
    "                                \n",
    "print(f)\n",
    "\n",
    "#the answer from the solutions looks very complicated to me"
   ]
  },
  {
   "cell_type": "markdown",
   "metadata": {
    "Collapsed": "false"
   },
   "source": [
    "#### 17. Print *d* and *f*. Do you have your expected *f*?\n",
    "For instance, if your *d* is:\n",
    "```python\n",
    "[[[1.85836099, 1.67064465, 1.62576044, 1.40243961, 1.88454931],\n",
    "[1.75354326, 1.69403643, 1.36729252, 1.61415071, 1.12104981],\n",
    "[1.72201435, 1.1862918 , 1.87078449, 1.7726778 , 1.88180042]],\n",
    "[[1.44747908, 1.31673383, 1.02000951, 1.52218947, 1.97066381],\n",
    "[1.79129243, 1.74983003, 1.96028037, 1.85166831, 1.65450881],\n",
    "[1.18068344, 1.9587381 , 1.00656599, 1.93402165, 1.73514584]]]\n",
    "```\n",
    "Your *f* should be:\n",
    "```python\n",
    "[[[ 75.,  75.,  75.,  25.,  75.],\n",
    "[ 75.,  75.,  25.,  25.,  25.],\n",
    "[ 75.,  25.,  75.,  75.,  75.]],\n",
    "[[ 25.,  25.,  25.,  25., 100.],\n",
    "[ 75.,  75.,  75.,  75.,  75.],\n",
    "[ 25.,  75.,   0.,  75.,  75.]]]\n",
    "```"
   ]
  },
  {
   "cell_type": "code",
   "execution_count": 22,
   "metadata": {
    "Collapsed": "false"
   },
   "outputs": [
    {
     "name": "stdout",
     "output_type": "stream",
     "text": [
      "This is D: \n",
      " [[[1.7354904  1.07889871 1.96086133 1.64234364 1.53781385]\n",
      "  [1.51695791 1.57985939 1.41520774 1.76149942 1.26256269]\n",
      "  [1.42128007 1.86654304 1.11860127 1.46057247 1.81766655]]\n",
      "\n",
      " [[1.77410974 1.13875033 1.70697525 1.63361915 1.82056115]\n",
      "  [1.4171128  1.83846527 1.10175054 1.41322289 1.15578966]\n",
      "  [1.32774661 1.13392704 1.25506656 1.48484311 1.17959371]]]\n",
      "This is F: \n",
      " [[[ 75.   0. 100.  75.  75.]\n",
      "  [ 75.  75.  25.  75.  25.]\n",
      "  [ 25.  75.  25.  25.  75.]]\n",
      "\n",
      " [[ 75.  25.  75.  75.  75.]\n",
      "  [ 25.  75.  25.  25.  25.]\n",
      "  [ 25.  25.  25.  25.  25.]]]\n",
      "Seems oke\n"
     ]
    }
   ],
   "source": [
    "# your code here\n",
    "print(\"This is D: \\n\", d)\n",
    "\n",
    "print(\"This is F: \\n\", f)\n",
    "\n",
    "print(\"Seems oke\")"
   ]
  },
  {
   "cell_type": "markdown",
   "metadata": {
    "Collapsed": "false"
   },
   "source": [
    "#### 18. Bonus question: instead of using numbers (i.e. 0, 25, 50, 75, and 100), use string values  (\"A\", \"B\", \"C\", \"D\", and \"E\") to label the array elements. For the example above, the expected result is:\n",
    "\n",
    "```python\n",
    "[[[ 'D',  'D',  'D',  'B',  'D'],\n",
    "[ 'D',  'D',  'B',  'B',  'B'],\n",
    "[ 'D',  'B',  'D',  'D',  'D']],\n",
    "[[ 'B',  'B',  'B',  'B',  'E'],\n",
    "[ 'D',  'D',  'D',  'D',  'D'],\n",
    "[ 'B',  'D',   'A',  'D', 'D']]]\n",
    "```\n",
    "**Note**: you don't have to use Numpy in this question."
   ]
  },
  {
   "cell_type": "code",
   "execution_count": 20,
   "metadata": {
    "Collapsed": "false"
   },
   "outputs": [
    {
     "name": "stdout",
     "output_type": "stream",
     "text": [
      "[[['B' 'D' 'E' 'B' 'B']\n",
      "  ['B' 'B' 'A' 'B' 'A']\n",
      "  ['A' 'B' 'A' 'A' 'B']]\n",
      "\n",
      " [['B' 'A' 'B' 'B' 'B']\n",
      "  ['A' 'B' 'A' 'A' 'A']\n",
      "  ['A' 'A' 'A' 'A' 'A']]]\n"
     ]
    }
   ],
   "source": [
    "# your code here\n",
    "f_letter = np.empty((2,3,5), dtype='U1')\n",
    "\n",
    "for i in range(2):\n",
    "    for j in range(3):\n",
    "        for k in range(5):\n",
    "            if d[i][j][k] > d_min and i < d_mean: #iterates through all possible positiosn, 0-0-0 '0-0-1' all the way to 2-3-5\n",
    "                f_letter[i][j][k] = ('A')\n",
    "            if d[i][j][k] > d_mean and i < d_max:\n",
    "                f_letter[i][j][k] = ('B')\n",
    "            if d[i][j][k] == d_mean:\n",
    "                f_letter[i][j][k] = ('C')\n",
    "            if d[i][j][k] == d_min:\n",
    "                f_letter[i][j][k] = ('D')\n",
    "            if d[i][j][k] == d_max:\n",
    "                f_letter[i][j][k] = ('E')\n",
    "                                \n",
    "print(f_letter)"
   ]
  },
  {
   "cell_type": "code",
   "execution_count": null,
   "metadata": {},
   "outputs": [],
   "source": []
  },
  {
   "cell_type": "code",
   "execution_count": null,
   "metadata": {},
   "outputs": [],
   "source": []
  }
 ],
 "metadata": {
  "kernelspec": {
   "display_name": "Python 3",
   "language": "python",
   "name": "python3"
  },
  "language_info": {
   "codemirror_mode": {
    "name": "ipython",
    "version": 3
   },
   "file_extension": ".py",
   "mimetype": "text/x-python",
   "name": "python",
   "nbconvert_exporter": "python",
   "pygments_lexer": "ipython3",
   "version": "3.8.5"
  }
 },
 "nbformat": 4,
 "nbformat_minor": 4
}
