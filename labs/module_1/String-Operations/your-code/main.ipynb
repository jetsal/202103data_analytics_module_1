{
 "cells": [
  {
   "cell_type": "markdown",
   "metadata": {
    "Collapsed": "false"
   },
   "source": [
    "# Before your start:\n",
    "- Read the README.md file\n",
    "- Comment as much as you can and use the resources in the README.md file\n",
    "- Happy learning!"
   ]
  },
  {
   "cell_type": "code",
   "execution_count": 1,
   "metadata": {
    "Collapsed": "false"
   },
   "outputs": [],
   "source": [
    "import re"
   ]
  },
  {
   "cell_type": "markdown",
   "metadata": {
    "Collapsed": "false"
   },
   "source": [
    "# Challenge 1 - Combining Strings\n",
    "\n",
    "Combining strings is an important skill to acquire. There are multiple ways of combining strings in Python, as well as combining strings with variables. We will explore this in the first challenge. In the cell below, combine the strings in the list and add spaces between the strings (do not add a space after the last string). Insert a period after the last string."
   ]
  },
  {
   "cell_type": "code",
   "execution_count": 17,
   "metadata": {
    "Collapsed": "false"
   },
   "outputs": [
    {
     "name": "stdout",
     "output_type": "stream",
     "text": [
      "['Durante', 'un', 'tiempo', 'no', 'estuvo', 'segura', 'de', 'si', 'su', 'marido', 'era', 'su', 'marido']\n",
      "Durante un tiempo no estuvo segura de si su marido era su marido.\n"
     ]
    }
   ],
   "source": [
    "str_list = ['Durante', 'un', 'tiempo', 'no', 'estuvo', 'segura', 'de', 'si', 'su', 'marido', 'era', 'su', 'marido']\n",
    "# Your code here:\n",
    "print(str_list)\n",
    "\n",
    "str_list = ','.join(str_list)\n",
    "str_list = str_list.replace(',', ' ') + '.'\n",
    "print(str_list)"
   ]
  },
  {
   "cell_type": "markdown",
   "metadata": {
    "Collapsed": "false"
   },
   "source": [
    "In the cell below, use the list of strings to create a grocery list. Start the list with the string `Grocery list: ` and include a comma and a space between each item except for the last one. Include a period at the end. Only include foods in the list that start with the letter 'b' and ensure all foods are lower case."
   ]
  },
  {
   "cell_type": "code",
   "execution_count": 77,
   "metadata": {
    "Collapsed": "false"
   },
   "outputs": [
    {
     "name": "stdout",
     "output_type": "stream",
     "text": [
      "Grocery list: bananas, bread, brownie mix, broccoli.\n",
      "\n"
     ]
    }
   ],
   "source": [
    "food_list = ['Bananas', 'Chocolate', 'bread', 'diapers', 'Ice Cream', 'Brownie Mix', 'broccoli']\n",
    "# Your code here:\n",
    "\n",
    "grocery_list = []\n",
    "\n",
    "for i in food_list:\n",
    "    if i.startswith('b'):\n",
    "        grocery_list.append(i)\n",
    "    elif i.startswith('B'):\n",
    "        grocery_list.append(i)\n",
    "# print('test for B/b', grocery_list)\n",
    "\n",
    "grocery_list = ','.join(grocery_list)\n",
    "grocery_list = grocery_list.replace(',' , ', ')\n",
    "grocery_list = 'Grocery list: ' + grocery_list + '.\\n'\n",
    "print(grocery_list.capitalize())\n",
    "\n"
   ]
  },
  {
   "cell_type": "markdown",
   "metadata": {
    "Collapsed": "false"
   },
   "source": [
    "In the cell below, write a function that computes the area of a circle using its radius. Compute the area of the circle and insert the radius and the area between the two strings. Make sure to include spaces between the variable and the strings. \n",
    "\n",
    "Note: You can use the techniques we have learned so far or use f-strings. F-strings allow us to embed code inside strings. You can read more about f-strings [here](https://www.python.org/dev/peps/pep-0498/)."
   ]
  },
  {
   "cell_type": "code",
   "execution_count": 120,
   "metadata": {
    "Collapsed": "false"
   },
   "outputs": [
    {
     "name": "stdout",
     "output_type": "stream",
     "text": [
      "using thaught method: The area of the circle with radius: 4.5 is: 63.6\n",
      "using the f-string:   The area of the circle with radius: 4.5 is: 63.6\n"
     ]
    }
   ],
   "source": [
    "import math\n",
    "\n",
    "string1 = \"The area of the circle with radius:\"\n",
    "string2  = \"is:\"\n",
    "radius = 4.5\n",
    "\n",
    "def area(x, pi = math.pi):\n",
    "    \"\"\"\n",
    "    This function takes a radius and returns the area of a circle. \n",
    "    We also pass a default value for pi.\n",
    "    \n",
    "    Input: Float (and default value for pi)\n",
    "    Output: Float\n",
    "    \n",
    "    Sample input: 5.0\n",
    "    Sample Output: 78.53981633\n",
    "    \"\"\"\n",
    "    \n",
    "    # Your code here:\n",
    "    area_circle = round(pi * radius**2, 1)\n",
    "    return(area_circle)\n",
    "\n",
    "area_outcome = area(radius)\n",
    "#print(area_outcome)\n",
    "# Your output string here:\n",
    "\n",
    "string3 = [string1, str(radius), string2, str(area_outcome)]\n",
    "#print(string3)\n",
    "string3 = ','.join(string3)\n",
    "string3 = string3.replace(',', ' ')\n",
    "print('using thaught method:', string3)\n",
    "\n",
    "#method f string\n",
    "string4 = f'{string1} {str(radius)} {string2} {str(area_outcome)}'\n",
    "print('using the f-string:  ', string4)"
   ]
  },
  {
   "cell_type": "markdown",
   "metadata": {
    "Collapsed": "false"
   },
   "source": [
    "# Challenge 2 - Splitting Strings\n",
    "\n",
    "We have first looked at combining strings into one long string. There are times where we need to do the opposite and split the string into smaller components for further analysis. \n",
    "\n",
    "In the cell below, split the string into a list of strings using the space delimiter. Count the frequency of each word in the string in a dictionary. Strip the periods, line breaks and commas from the text. Make sure to remove empty strings from your dictionary."
   ]
  },
  {
   "cell_type": "code",
   "execution_count": 176,
   "metadata": {
    "Collapsed": "false"
   },
   "outputs": [
    {
     "name": "stdout",
     "output_type": "stream",
     "text": [
      "{'Some': [2], 'say': [3], 'the': [1], 'world': [1], 'will': [1], 'end': [1], 'in': [2], 'fire': [2], 'ice': [2], 'From': [1], 'what': [1], 'Ive': [1], 'tasted': [1], 'of': [2], 'desire': [1], 'I': [3], 'hold': [1], 'with': [1], 'those': [1], 'who': [1], 'favor': [1], 'But': [1], 'if': [1], 'it': [1], 'had': [1], 'to': [1], 'perish': [1], 'twice': [1], 'think': [1], 'know': [1], 'enough': [1], 'hate': [1], 'To': [1], 'that': [1], 'for': [1], 'destruction': [1], 'Is': [1], 'also': [1], 'great': [1], 'And': [1], 'would': [1], 'suffice': [1]}\n"
     ]
    }
   ],
   "source": [
    "import re\n",
    "poem = \"\"\"Some say the world will end in fire,\n",
    "Some say in ice.\n",
    "From what I’ve tasted of desire\n",
    "I hold with those who favor fire.\n",
    "But if it had to perish twice,\n",
    "I think I know enough of hate\n",
    "To say that for destruction ice\n",
    "Is also great\n",
    "And would suffice.\"\"\"\n",
    "\n",
    "# Your code here:\n",
    "\n",
    "poem = poem.replace('\\n', ' ')\n",
    "poem = re.sub('[^\\w\\s]', '', poem)\n",
    "poem = poem.split(' ')\n",
    "#print(poem)\n",
    "\n",
    "dictionary = {}\n",
    "\n",
    "for i in poem:\n",
    "    dictionary[i]=[poem.count(i)]\n",
    "print(dictionary)\n"
   ]
  },
  {
   "cell_type": "markdown",
   "metadata": {
    "Collapsed": "false"
   },
   "source": [
    "In the cell below, find all the words that appear in the text and do not appear in the blacklist. You must parse the string but can choose any data structure you wish for the words that do not appear in the blacklist. Remove all non letter characters and convert all words to lower case."
   ]
  },
  {
   "cell_type": "code",
   "execution_count": 250,
   "metadata": {
    "Collapsed": "false"
   },
   "outputs": [
    {
     "name": "stdout",
     "output_type": "stream",
     "text": [
      "\n",
      "this is the poem as a set:\n",
      " {'in', 'beheld', 'day', 'see', 'told', 'grow', 'wiles', 'did', 'it', 'pole', 'shine', 'was', 'and', 'knew', 'my', 'wrath', 'when', 'end', 'friend', 'fears', 'grew', 'tree', 'angry', 'veild', 'an', 'the', 'mine', 'glad', 'i', 'night', 'sunned', 'outstretched', 'with', 'morning', 'till', 'apple', 'stole', 'garden', 'he', 'smiles', 'bore', 'foe', 'deceitful', 'had', 'soft', 'both', 'into', 'waterd', 'tears', 'that', 'beneath', 'not', 'bright'}\n",
      "\n",
      "this is the not-complete poem:\n",
      " {'beheld', 'day', 'see', 'told', 'grow', 'wiles', 'did', 'pole', 'shine', 'was', 'knew', 'my', 'wrath', 'when', 'end', 'friend', 'fears', 'grew', 'tree', 'angry', 'veild', 'mine', 'glad', 'i', 'night', 'sunned', 'outstretched', 'with', 'morning', 'till', 'apple', 'stole', 'garden', 'he', 'smiles', 'bore', 'foe', 'deceitful', 'had', 'soft', 'both', 'into', 'waterd', 'tears', 'that', 'beneath', 'not', 'bright'}\n",
      "\n",
      " this is the poem as an alphabetical list of words:\n",
      " ['angry', 'apple', 'beheld', 'beneath', 'bore', 'both', 'bright', 'day', 'deceitful', 'did', 'end', 'fears', 'foe', 'friend', 'garden', 'glad', 'grew', 'grow', 'had', 'he', 'i', 'into', 'knew', 'mine', 'morning', 'my', 'night', 'not', 'outstretched', 'pole', 'see', 'shine', 'smiles', 'soft', 'stole', 'sunned', 'tears', 'that', 'till', 'told', 'tree', 'veild', 'was', 'waterd', 'when', 'wiles', 'with', 'wrath']\n",
      "this is the length of the shortened poem: 48\n"
     ]
    }
   ],
   "source": [
    "blacklist = ['and', 'as', 'an', 'a', 'the', 'in', 'it']\n",
    "\n",
    "poem = \"\"\"I was angry with my friend; \n",
    "I told my wrath, my wrath did end.\n",
    "I was angry with my foe: \n",
    "I told it not, my wrath did grow. \n",
    "\n",
    "And I waterd it in fears,\n",
    "Night & morning with my tears: \n",
    "And I sunned it with smiles,\n",
    "And with soft deceitful wiles. \n",
    "\n",
    "And it grew both day and night. \n",
    "Till it bore an apple bright. \n",
    "And my foe beheld it shine,\n",
    "And he knew that it was mine. \n",
    "\n",
    "And into my garden stole, \n",
    "When the night had veild the pole; \n",
    "In the morning glad I see; \n",
    "My foe outstretched beneath the tree.\"\"\"\n",
    "\n",
    "# Your code here:\n",
    "# all words, so no duplicates. Set would come in handy to eradicate duplicates. Revert back to list to sort alphabetically \n",
    "# (easier to check if the words are indeed gone).\n",
    "\n",
    "poem = re.sub('[^\\w\\s]', '', poem)\n",
    "poem = re.sub('\\n', ' ', poem)\n",
    "poem = re.sub('  ', ' ', poem)\n",
    "poem = re.sub('  ', ' ', poem)\n",
    "poem = poem.lower()\n",
    "#print('this is the complete poem:\\n', poem)\n",
    "\n",
    "poem = poem.split(' ')\n",
    "#print('\\nthis is the poem as a list:\\n', poem)\n",
    "#print('this is the number of words in the entire poem:', len(poem))\n",
    "\n",
    "poem = set(poem)\n",
    "print('\\nthis is the poem as a set:\\n', poem)\n",
    "#print('this is the number of unique words in the entire poem:', len(poem))\n",
    "\n",
    "for i in blacklist:\n",
    "    if i in poem:\n",
    "        poem.remove(i)\n",
    "print('\\nthis is the not-complete poem:\\n', poem)\n",
    "\n",
    "poem = list(poem)\n",
    "poem = sorted(poem)\n",
    "\n",
    "print('\\n this is the poem as an alphabetical list of words:\\n', poem)\n",
    "print('this is the length of the shortened poem:', len(poem))"
   ]
  },
  {
   "cell_type": "markdown",
   "metadata": {
    "Collapsed": "false"
   },
   "source": [
    "# Challenge 3 - Regular Expressions\n",
    "\n",
    "Sometimes, we would like to perform more complex manipulations of our string. This is where regular expressions come in handy. In the cell below, return all characters that are upper case from the string specified below."
   ]
  },
  {
   "cell_type": "code",
   "execution_count": 259,
   "metadata": {
    "Collapsed": "false"
   },
   "outputs": [
    {
     "name": "stdout",
     "output_type": "stream",
     "text": [
      "['T', 'P']\n"
     ]
    }
   ],
   "source": [
    "poem = \"\"\"The apparition of these faces in the crowd;\n",
    "Petals on a wet, black bough.\"\"\"\n",
    "\n",
    "# Your code here:\n",
    "print(re.findall('[A-Z]', poem))\n"
   ]
  },
  {
   "cell_type": "markdown",
   "metadata": {
    "Collapsed": "false"
   },
   "source": [
    "In the cell below, filter the list provided and return all elements of the list containing a number. To filter the list, use the `re.search` function. Check if the function does not return `None`. You can read more about the `re.search` function [here](https://docs.python.org/3/library/re.html)."
   ]
  },
  {
   "cell_type": "code",
   "execution_count": 261,
   "metadata": {
    "Collapsed": "false"
   },
   "outputs": [
    {
     "name": "stdout",
     "output_type": "stream",
     "text": [
      "123abc\n",
      "abc123\n",
      "JohnSmith1\n",
      "ABBY4\n"
     ]
    }
   ],
   "source": [
    "data = ['123abc', 'abc123', 'JohnSmith1', 'ABBY4', 'JANE']\n",
    "\n",
    "# Your code here:\n",
    "for i in data:\n",
    "    if re.search('\\d', i):\n",
    "        print(i)"
   ]
  },
  {
   "cell_type": "markdown",
   "metadata": {
    "Collapsed": "false"
   },
   "source": [
    "# Bonus Challenge - Regular Expressions II\n",
    "\n",
    "In the cell below, filter the list provided to keep only strings containing at least one digit and at least one lower case letter. As in the previous question, use the `re.search` function and check that the result is not `None`.\n",
    "\n",
    "To read more about regular expressions, check out [this link](https://developers.google.com/edu/python/regular-expressions)."
   ]
  },
  {
   "cell_type": "code",
   "execution_count": 277,
   "metadata": {
    "Collapsed": "false"
   },
   "outputs": [
    {
     "name": "stdout",
     "output_type": "stream",
     "text": [
      "123abc\n",
      "abc123\n",
      "JohnSmith1\n"
     ]
    }
   ],
   "source": [
    "data = ['123abc', 'abc123', 'JohnSmith1', 'ABBY4', 'JANE']\n",
    "# Your code here:\n",
    "\n",
    "\"\"\"\n",
    "#two seperate for loops :\n",
    "data_nr = []\n",
    "for i in data:\n",
    "    if re.search('\\d', i):\n",
    "        data_nr.append(i)\n",
    "#print (data_nr)\n",
    "\n",
    "for i in data_nr:\n",
    "    if re.search('[a-z]', i):\n",
    "        print(i)\n",
    "\"\"\"\n",
    "for i in data:\n",
    "    if re.search('\\d', i):\n",
    "        if re.search('[a-z]', i):\n",
    "            print(i)"
   ]
  },
  {
   "cell_type": "code",
   "execution_count": null,
   "metadata": {},
   "outputs": [],
   "source": []
  }
 ],
 "metadata": {
  "kernelspec": {
   "display_name": "Python 3",
   "language": "python",
   "name": "python3"
  },
  "language_info": {
   "codemirror_mode": {
    "name": "ipython",
    "version": 3
   },
   "file_extension": ".py",
   "mimetype": "text/x-python",
   "name": "python",
   "nbconvert_exporter": "python",
   "pygments_lexer": "ipython3",
   "version": "3.8.5"
  }
 },
 "nbformat": 4,
 "nbformat_minor": 4
}
