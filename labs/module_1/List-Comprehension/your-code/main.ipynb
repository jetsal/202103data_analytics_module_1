{
 "cells": [
  {
   "cell_type": "markdown",
   "metadata": {
    "Collapsed": "false"
   },
   "source": [
    "# List Comprehensions\n",
    "\n",
    "Complete the following set of exercises to solidify your knowledge of list comprehensions."
   ]
  },
  {
   "cell_type": "code",
   "execution_count": 1,
   "metadata": {
    "Collapsed": "false"
   },
   "outputs": [],
   "source": [
    "import os;"
   ]
  },
  {
   "cell_type": "markdown",
   "metadata": {
    "Collapsed": "false"
   },
   "source": [
    "#### 1. Use a list comprehension to create and print a list of consecutive integers starting with 1 and ending with 50."
   ]
  },
  {
   "cell_type": "code",
   "execution_count": 2,
   "metadata": {
    "Collapsed": "false"
   },
   "outputs": [
    {
     "name": "stdout",
     "output_type": "stream",
     "text": [
      "[1, 2, 3, 4, 5, 6, 7, 8, 9, 10, 11, 12, 13, 14, 15, 16, 17, 18, 19, 20, 21, 22, 23, 24, 25, 26, 27, 28, 29, 30, 31, 32, 33, 34, 35, 36, 37, 38, 39, 40, 41, 42, 43, 44, 45, 46, 47, 48, 49, 50]\n"
     ]
    }
   ],
   "source": [
    "#using a for loop\n",
    "'''\n",
    "list_int=[]\n",
    "\n",
    "for i in range(1,51):\n",
    "    list_int.append(i)\n",
    "print(list_int)\n",
    "'''\n",
    "#using list comprehension\n",
    "list_int2 = [i for i in range (1,51)]\n",
    "print(list_int2)"
   ]
  },
  {
   "cell_type": "markdown",
   "metadata": {
    "Collapsed": "false"
   },
   "source": [
    "#### 2. Use a list comprehension to create and print a list of even numbers starting with 2 and ending with 200."
   ]
  },
  {
   "cell_type": "code",
   "execution_count": 3,
   "metadata": {
    "Collapsed": "false"
   },
   "outputs": [
    {
     "name": "stdout",
     "output_type": "stream",
     "text": [
      "[2, 4, 6, 8, 10, 12, 14, 16, 18, 20, 22, 24, 26, 28, 30, 32, 34, 36, 38, 40, 42, 44, 46, 48, 50, 52, 54, 56, 58, 60, 62, 64, 66, 68, 70, 72, 74, 76, 78, 80, 82, 84, 86, 88, 90, 92, 94, 96, 98, 100, 102, 104, 106, 108, 110, 112, 114, 116, 118, 120, 122, 124, 126, 128, 130, 132, 134, 136, 138, 140, 142, 144, 146, 148, 150, 152, 154, 156, 158, 160, 162, 164, 166, 168, 170, 172, 174, 176, 178, 180, 182, 184, 186, 188, 190, 192, 194, 196, 198, 200]\n"
     ]
    }
   ],
   "source": [
    "#using a for loop\n",
    "'''\n",
    "list_even=[]\n",
    "\n",
    "for i in range (2,201):\n",
    "    if i % 2 == 0:\n",
    "        list_even.append(i)\n",
    "\n",
    "print(list_even)\n",
    "'''\n",
    "\n",
    "#now using list comprehension\n",
    "list_even2 = [i for i in range(2, 201) if i %2 == 0]\n",
    "print(list_even2)"
   ]
  },
  {
   "cell_type": "markdown",
   "metadata": {
    "Collapsed": "false"
   },
   "source": [
    "#### 3. Use a list comprehension to create and print a list containing all elements of the 10 x 4 array below."
   ]
  },
  {
   "cell_type": "code",
   "execution_count": 4,
   "metadata": {
    "Collapsed": "false"
   },
   "outputs": [],
   "source": [
    "a = [[0.84062117, 0.48006452, 0.7876326 , 0.77109654],\n",
    "       [0.44409793, 0.09014516, 0.81835917, 0.87645456],\n",
    "       [0.7066597 , 0.09610873, 0.41247947, 0.57433389],\n",
    "       [0.29960807, 0.42315023, 0.34452557, 0.4751035 ],\n",
    "       [0.17003563, 0.46843998, 0.92796258, 0.69814654],\n",
    "       [0.41290051, 0.19561071, 0.16284783, 0.97016248],\n",
    "       [0.71725408, 0.87702738, 0.31244595, 0.76615487],\n",
    "       [0.20754036, 0.57871812, 0.07214068, 0.40356048],\n",
    "       [0.12149553, 0.53222417, 0.9976855 , 0.12536346],\n",
    "       [0.80930099, 0.50962849, 0.94555126, 0.33364763]];"
   ]
  },
  {
   "cell_type": "code",
   "execution_count": 5,
   "metadata": {
    "Collapsed": "false"
   },
   "outputs": [
    {
     "name": "stdout",
     "output_type": "stream",
     "text": [
      "this is the list comprehension list [0.84062117, 0.48006452, 0.7876326, 0.77109654, 0.44409793, 0.09014516, 0.81835917, 0.87645456, 0.7066597, 0.09610873, 0.41247947, 0.57433389, 0.29960807, 0.42315023, 0.34452557, 0.4751035, 0.17003563, 0.46843998, 0.92796258, 0.69814654, 0.41290051, 0.19561071, 0.16284783, 0.97016248, 0.71725408, 0.87702738, 0.31244595, 0.76615487, 0.20754036, 0.57871812, 0.07214068, 0.40356048, 0.12149553, 0.53222417, 0.9976855, 0.12536346, 0.80930099, 0.50962849, 0.94555126, 0.33364763]\n"
     ]
    }
   ],
   "source": [
    "#this is a two-level list (a list with one sub-list). If it were a one-level list, you could just say: print(a). \n",
    "#but now you need to unpack the sublist to get all the elements neatly on the first (main) level.\n",
    "\n",
    "\"\"\"\n",
    "list_1=[]\n",
    "for elements in a:\n",
    "    #print(elements)\n",
    "    for sub_elements in elements:\n",
    "        list_1.append(sub_elements)\n",
    "\n",
    "print('this is list 1', list_1)\n",
    "\n",
    "#What should be the same as this for loop:\n",
    "\n",
    "list_2=[]\n",
    "for i in a:\n",
    "    #print(i)\n",
    "    for j in i:\n",
    "        list_2.append(j)\n",
    "print('this is list 2', list_2)\n",
    "\n",
    "#what should be the same as this list comprehension:\n",
    "\"\"\"\n",
    "\n",
    "list=[sub_elements for elements in a for sub_elements in elements]\n",
    "print(\"this is the list comprehension list\", list)\n",
    "\n",
    "# the list comprehension returns a list, the for loop returns the items but not in a list. So this should be repacked in a list somehow?\n"
   ]
  },
  {
   "cell_type": "markdown",
   "metadata": {
    "Collapsed": "false"
   },
   "source": [
    "#### 4. Add a condition to the list comprehension above so that only values greater than or equal to 0.5 are printed."
   ]
  },
  {
   "cell_type": "code",
   "execution_count": 6,
   "metadata": {
    "Collapsed": "false"
   },
   "outputs": [
    {
     "name": "stdout",
     "output_type": "stream",
     "text": [
      "[0.84062117, 0.7876326, 0.77109654, 0.81835917, 0.87645456, 0.7066597, 0.57433389, 0.92796258, 0.69814654, 0.97016248, 0.71725408, 0.87702738, 0.76615487, 0.57871812, 0.53222417, 0.9976855, 0.80930099, 0.50962849, 0.94555126]\n"
     ]
    }
   ],
   "source": [
    "\"\"\"\n",
    "list_a=[]\n",
    "for elements in a:\n",
    "    #print(elements)\n",
    "    for sub_elements in elements:\n",
    "        if sub_elements >= 0.5:\n",
    "            list_a.append(sub_elements)\n",
    "print ('this is list_a', list_a)\n",
    "       \n",
    "#What should be the same as this for loop:\n",
    "list_a2=[]\n",
    "for i in a:\n",
    "    #print(i)\n",
    "    for j in i:\n",
    "        if j >= 0.5:\n",
    "            list_a2.append(j)\n",
    "print('this is list_a2', list_a2)\n",
    "\n",
    "#what should be the same as this list comprehension:\n",
    "\n",
    "\"\"\"\n",
    "list=[sub_elements for elements in a for sub_elements in elements if sub_elements >= 0.5]\n",
    "print(list)\n"
   ]
  },
  {
   "cell_type": "markdown",
   "metadata": {
    "Collapsed": "false"
   },
   "source": [
    "#### 5. Use a list comprehension to create and print a list containing all elements of the 5 x 2 x 3 array below."
   ]
  },
  {
   "cell_type": "code",
   "execution_count": 7,
   "metadata": {
    "Collapsed": "false"
   },
   "outputs": [],
   "source": [
    "b = [[[0.55867166, 0.06210792, 0.08147297],\n",
    "        [0.82579068, 0.91512478, 0.06833034]],\n",
    "\n",
    "       [[0.05440634, 0.65857693, 0.30296619],\n",
    "        [0.06769833, 0.96031863, 0.51293743]],\n",
    "\n",
    "       [[0.09143215, 0.71893382, 0.45850679],\n",
    "        [0.58256464, 0.59005654, 0.56266457]],\n",
    "\n",
    "       [[0.71600294, 0.87392666, 0.11434044],\n",
    "        [0.8694668 , 0.65669313, 0.10708681]],\n",
    "\n",
    "       [[0.07529684, 0.46470767, 0.47984544],\n",
    "        [0.65368638, 0.14901286, 0.23760688]]];"
   ]
  },
  {
   "cell_type": "code",
   "execution_count": 8,
   "metadata": {
    "Collapsed": "false"
   },
   "outputs": [
    {
     "name": "stdout",
     "output_type": "stream",
     "text": [
      "[0.55867166, 0.06210792, 0.08147297, 0.82579068, 0.91512478, 0.06833034, 0.05440634, 0.65857693, 0.30296619, 0.06769833, 0.96031863, 0.51293743, 0.09143215, 0.71893382, 0.45850679, 0.58256464, 0.59005654, 0.56266457, 0.71600294, 0.87392666, 0.11434044, 0.8694668, 0.65669313, 0.10708681, 0.07529684, 0.46470767, 0.47984544, 0.65368638, 0.14901286, 0.23760688]\n",
      "[0.55867166, 0.06210792, 0.08147297, 0.82579068, 0.91512478, 0.06833034, 0.05440634, 0.65857693, 0.30296619, 0.06769833, 0.96031863, 0.51293743, 0.09143215, 0.71893382, 0.45850679, 0.58256464, 0.59005654, 0.56266457, 0.71600294, 0.87392666, 0.11434044, 0.8694668, 0.65669313, 0.10708681, 0.07529684, 0.46470767, 0.47984544, 0.65368638, 0.14901286, 0.23760688]\n"
     ]
    }
   ],
   "source": [
    "\"\"\"\n",
    "unnested_list=[]\n",
    "for elements in b:\n",
    "    for sub_elements in elements:\n",
    "        for sub_sub_elements in sub_elements:\n",
    "            unnested_list.append(sub_sub_elements)\n",
    "print(unnested_list)\n",
    "\n",
    "unnested_list2=[]\n",
    "for i in b:\n",
    "    for j in i:\n",
    "        for k in j:\n",
    "            unnested_list2.append(k)\n",
    "print(unnested_list2)\n",
    "\"\"\"  \n",
    "\n",
    "unpacked=[sub_sub_elements for elements in b for sub_elements in elements for sub_sub_elements in sub_elements]\n",
    "print(unpacked)\n",
    "\n",
    "#i equals elements\n",
    "#j equals sub_elements\n",
    "#k equals sub_sub_elements\n",
    "\n",
    "unpacked_2=[k for i in b for j in i for k in j]\n",
    "print(unpacked_2)\n",
    "\n",
    "#stating sort of: I want those inner numbers (sub_sub_elements) in b as elements in unpacked_2. now peeling from outer to inner loops."
   ]
  },
  {
   "cell_type": "markdown",
   "metadata": {
    "Collapsed": "false"
   },
   "source": [
    "#### 6. Add a condition to the list comprehension above so that the last value in each subarray is printed, but only if it is less than or equal to 0.5."
   ]
  },
  {
   "cell_type": "code",
   "execution_count": 9,
   "metadata": {
    "Collapsed": "false"
   },
   "outputs": [
    {
     "name": "stdout",
     "output_type": "stream",
     "text": [
      "[0.08147297, 0.06833034, 0.30296619, 0.45850679, 0.11434044, 0.10708681, 0.47984544, 0.23760688]\n"
     ]
    }
   ],
   "source": [
    "#so using a for loop, you need to pick out sub_elements[-1], and print this only this and only if its <= 0.5)\n",
    "\"\"\"\n",
    "last_nr=[]\n",
    "for elements in b:\n",
    "    for sub_elements in elements:\n",
    "        if sub_elements[-1]<= 0.5:\n",
    "            last_nr.append(sub_elements[-1])\n",
    "print(last_nr)\n",
    "\n",
    "last_nr_comprehend=[sub_elements[-1] for elements in b for sub_elements in elements if sub_elements[-1]<=0.5]\n",
    "print(last_nr_comprehend)\n",
    "\"\"\" \n",
    "\n",
    "#i equals elements\n",
    "#j equals sub_elements\n",
    "#k equals sub_sub_elements\n",
    "\n",
    "last_comprehended_list=[j[-1] for i in b for j in i if j[-1]<=0.5]\n",
    "print(last_comprehended_list)\n",
    "\n"
   ]
  },
  {
   "cell_type": "markdown",
   "metadata": {
    "Collapsed": "false"
   },
   "source": [
    "#### 7. Use a list comprehension to select and print the names of all CSV files in the data folder\n",
    "To access the data in the folder data, resort to relative paths by using `../data`"
   ]
  },
  {
   "cell_type": "code",
   "execution_count": 10,
   "metadata": {
    "Collapsed": "false"
   },
   "outputs": [
    {
     "name": "stdout",
     "output_type": "stream",
     "text": [
      "['sample_file_0.csv', 'sample_file_1.csv', 'sample_file_2.csv', 'sample_file_3.csv', 'sample_file_4.csv', 'sample_file_5.csv', 'sample_file_6.csv', 'sample_file_7.csv', 'sample_file_8.csv', 'sample_file_9.csv']\n"
     ]
    }
   ],
   "source": [
    "import os;\n",
    "\"\"\"\n",
    "#for loop\n",
    "csv_files = []\n",
    "\n",
    "for file in os.listdir(\"C:/Users/jetsa/202103data_analytics_module_1/labs/module_1/List-Comprehension/data\"):\n",
    "    if file.endswith(\".csv\"):\n",
    "        csv_files.append(file)\n",
    "print(csv_files)\n",
    "\"\"\"\n",
    "#list comprehension\n",
    "csv_files_2=[file for file in os.listdir(\"C:/Users/jetsa/202103data_analytics_module_1/labs/module_1/List-Comprehension/data\") if file.endswith(\".csv\")]\n",
    "print(csv_files_2)"
   ]
  },
  {
   "cell_type": "markdown",
   "metadata": {
    "Collapsed": "false"
   },
   "source": [
    "### Bonus"
   ]
  },
  {
   "cell_type": "markdown",
   "metadata": {
    "Collapsed": "false"
   },
   "source": [
    "Try to solve these katas using list comprehensions."
   ]
  },
  {
   "cell_type": "markdown",
   "metadata": {
    "Collapsed": "false"
   },
   "source": [
    "**Easy**\n",
    "- [Insert values](https://www.codewars.com/kata/invert-values)\n",
    "- [Sum Square(n)](https://www.codewars.com/kata/square-n-sum)\n",
    "- [Digitize](https://www.codewars.com/kata/digitize)\n",
    "- [List filtering](https://www.codewars.com/kata/list-filtering)\n",
    "- [Arithmetic list](https://www.codewars.com/kata/541da001259d9ca85d000688)\n",
    "\n",
    "**Medium**\n",
    "- [Multiples of 3 or 5](https://www.codewars.com/kata/514b92a657cdc65150000006)\n",
    "- [Count of positives / sum of negatives](https://www.codewars.com/kata/count-of-positives-slash-sum-of-negatives)\n",
    "- [Categorize new member](https://www.codewars.com/kata/5502c9e7b3216ec63c0001aa)\n",
    "\n",
    "**Advanced**\n",
    "- [Queue time counter](https://www.codewars.com/kata/queue-time-counter)"
   ]
  }
 ],
 "metadata": {
  "kernelspec": {
   "display_name": "Python 3",
   "language": "python",
   "name": "python3"
  },
  "language_info": {
   "codemirror_mode": {
    "name": "ipython",
    "version": 3
   },
   "file_extension": ".py",
   "mimetype": "text/x-python",
   "name": "python",
   "nbconvert_exporter": "python",
   "pygments_lexer": "ipython3",
   "version": "3.8.5"
  }
 },
 "nbformat": 4,
 "nbformat_minor": 4
}
